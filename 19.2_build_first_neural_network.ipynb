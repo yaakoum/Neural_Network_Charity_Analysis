{
 "cells": [
  {
   "cell_type": "code",
   "execution_count": 3,
   "metadata": {},
   "outputs": [],
   "source": [
    "# 19.2.2 Build a Basic Neural Network\n",
    "# Import our dependencies\n",
    "import pandas as pd\n",
    "import matplotlib as plt\n",
    "from sklearn.datasets import make_blobs\n",
    "import sklearn as skl\n",
    "import tensorflow as tf"
   ]
  },
  {
   "cell_type": "code",
   "execution_count": 4,
   "metadata": {},
   "outputs": [
    {
     "data": {
      "text/plain": [
       "<AxesSubplot:xlabel='Feature 1', ylabel='Feature 2'>"
      ]
     },
     "execution_count": 4,
     "metadata": {},
     "output_type": "execute_result"
    },
    {
     "data": {
      "image/png": "[encoded data removed]",
      "text/plain": [
       "<Figure size 432x288 with 2 Axes>"
      ]
     },
     "metadata": {
      "needs_background": "light"
     },
     "output_type": "display_data"
    }
   ],
   "source": [
    "# Generate dummy dataset\n",
    "X, y = make_blobs(n_samples=1000, centers=2, n_features=2, random_state=78)\n",
    "\n",
    "# Creating a DataFrame with the dummy data\n",
    "df = pd.DataFrame(X, columns=[\"Feature 1\", \"Feature 2\"])\n",
    "df[\"Target\"] = y\n",
    "\n",
    "# Plotting the dummy data\n",
    "df.plot.scatter(x=\"Feature 1\", y=\"Feature 2\", c=\"Target\", colormap=\"winter\")"
   ]
  },
  {
   "cell_type": "code",
   "execution_count": 5,
   "metadata": {},
   "outputs": [],
   "source": [
    "# Use sklearn to split dataset\n",
    "from sklearn.model_selection import train_test_split\n",
    "X_train, X_test, y_train, y_test = train_test_split(X, y, random_state=78)"
   ]
  },
  {
   "cell_type": "code",
   "execution_count": 6,
   "metadata": {},
   "outputs": [],
   "source": [
    "# Create scaler instance\n",
    "X_scaler = skl.preprocessing.StandardScaler()\n",
    "\n",
    "# Fit the scaler\n",
    "X_scaler.fit(X_train)\n",
    "\n",
    "# Scale the data\n",
    "X_train_scaled = X_scaler.transform(X_train)\n",
    "X_test_scaled = X_scaler.transform(X_test)"
   ]
  },
  {
   "cell_type": "code",
   "execution_count": 7,
   "metadata": {},
   "outputs": [],
   "source": [
    "# Create the Keras Sequential model\n",
    "nn_model = tf.keras.models.Sequential()"
   ]
  },
  {
   "cell_type": "code",
   "execution_count": 8,
   "metadata": {},
   "outputs": [],
   "source": [
    "# Add our first Dense layer, including the input layer\n",
    "nn_model.add(tf.keras.layers.Dense(units=1, activation=\"relu\", input_dim=2))"
   ]
  },
  {
   "cell_type": "code",
   "execution_count": 9,
   "metadata": {},
   "outputs": [],
   "source": [
    "# Add the output layer that uses a probability activation function\n",
    "nn_model.add(tf.keras.layers.Dense(units=1, activation=\"sigmoid\"))"
   ]
  },
  {
   "cell_type": "code",
   "execution_count": 10,
   "metadata": {},
   "outputs": [
    {
     "name": "stdout",
     "output_type": "stream",
     "text": [
      "Model: \"sequential\"\n",
      "_________________________________________________________________\n",
      "Layer (type)                 Output Shape              Param #   \n",
      "=================================================================\n",
      "dense (Dense)                (None, 1)                 3         \n",
      "_________________________________________________________________\n",
      "dense_1 (Dense)              (None, 1)                 2         \n",
      "=================================================================\n",
      "Total params: 5\n",
      "Trainable params: 5\n",
      "Non-trainable params: 0\n",
      "_________________________________________________________________\n"
     ]
    }
   ],
   "source": [
    "# Check the structure of the Sequential model\n",
    "nn_model.summary()"
   ]
  },
  {
   "cell_type": "code",
   "execution_count": 11,
   "metadata": {},
   "outputs": [],
   "source": [
    "# Compile the Sequential model together and customize metrics\n",
    "nn_model.compile(loss=\"binary_crossentropy\", optimizer=\"adam\", metrics=[\"accuracy\"])"
   ]
  },
  {
   "cell_type": "code",
   "execution_count": 12,
   "metadata": {},
   "outputs": [
    {
     "name": "stdout",
     "output_type": "stream",
     "text": [
      "Epoch 1/100\n",
      "24/24 [==============================] - 0s 564us/step - loss: 0.6423 - accuracy: 0.7658\n",
      "Epoch 2/100\n",
      "24/24 [==============================] - 0s 621us/step - loss: 0.6374 - accuracy: 0.7674\n",
      "Epoch 3/100\n",
      "24/24 [==============================] - 0s 651us/step - loss: 0.6191 - accuracy: 0.8188\n",
      "Epoch 4/100\n",
      "24/24 [==============================] - 0s 609us/step - loss: 0.6110 - accuracy: 0.8005\n",
      "Epoch 5/100\n",
      "24/24 [==============================] - 0s 650us/step - loss: 0.5978 - accuracy: 0.8287\n",
      "Epoch 6/100\n",
      "24/24 [==============================] - 0s 737us/step - loss: 0.5924 - accuracy: 0.8308\n",
      "Epoch 7/100\n",
      "24/24 [==============================] - 0s 807us/step - loss: 0.5794 - accuracy: 0.8506\n",
      "Epoch 8/100\n",
      "24/24 [==============================] - 0s 737us/step - loss: 0.5695 - accuracy: 0.8377\n",
      "Epoch 9/100\n",
      "24/24 [==============================] - 0s 689us/step - loss: 0.5530 - accuracy: 0.8588\n",
      "Epoch 10/100\n",
      "24/24 [==============================] - 0s 781us/step - loss: 0.5406 - accuracy: 0.8727\n",
      "Epoch 11/100\n",
      "24/24 [==============================] - 0s 774us/step - loss: 0.5353 - accuracy: 0.8882\n",
      "Epoch 12/100\n",
      "24/24 [==============================] - 0s 694us/step - loss: 0.5185 - accuracy: 0.8752\n",
      "Epoch 13/100\n",
      "24/24 [==============================] - 0s 680us/step - loss: 0.5113 - accuracy: 0.8954\n",
      "Epoch 14/100\n",
      "24/24 [==============================] - 0s 892us/step - loss: 0.5038 - accuracy: 0.9006\n",
      "Epoch 15/100\n",
      "24/24 [==============================] - 0s 822us/step - loss: 0.4907 - accuracy: 0.9054\n",
      "Epoch 16/100\n",
      "24/24 [==============================] - 0s 793us/step - loss: 0.4717 - accuracy: 0.9080\n",
      "Epoch 17/100\n",
      "24/24 [==============================] - 0s 781us/step - loss: 0.4597 - accuracy: 0.9171\n",
      "Epoch 18/100\n",
      "24/24 [==============================] - 0s 607us/step - loss: 0.4470 - accuracy: 0.9159\n",
      "Epoch 19/100\n",
      "24/24 [==============================] - 0s 737us/step - loss: 0.4440 - accuracy: 0.9200\n",
      "Epoch 20/100\n",
      "24/24 [==============================] - 0s 694us/step - loss: 0.4297 - accuracy: 0.9279\n",
      "Epoch 21/100\n",
      "24/24 [==============================] - 0s 694us/step - loss: 0.4171 - accuracy: 0.9296\n",
      "Epoch 22/100\n",
      "24/24 [==============================] - 0s 694us/step - loss: 0.4328 - accuracy: 0.9092\n",
      "Epoch 23/100\n",
      "24/24 [==============================] - 0s 788us/step - loss: 0.3909 - accuracy: 0.9446\n",
      "Epoch 24/100\n",
      "24/24 [==============================] - 0s 761us/step - loss: 0.4013 - accuracy: 0.9260\n",
      "Epoch 25/100\n",
      "24/24 [==============================] - 0s 680us/step - loss: 0.3733 - accuracy: 0.9497\n",
      "Epoch 26/100\n",
      "24/24 [==============================] - 0s 739us/step - loss: 0.3755 - accuracy: 0.9256\n",
      "Epoch 27/100\n",
      "24/24 [==============================] - 0s 807us/step - loss: 0.3543 - accuracy: 0.9490\n",
      "Epoch 28/100\n",
      "24/24 [==============================] - 0s 737us/step - loss: 0.3435 - accuracy: 0.9556\n",
      "Epoch 29/100\n",
      "24/24 [==============================] - 0s 765us/step - loss: 0.3463 - accuracy: 0.9507\n",
      "Epoch 30/100\n",
      "24/24 [==============================] - 0s 800us/step - loss: 0.3278 - accuracy: 0.9557\n",
      "Epoch 31/100\n",
      "24/24 [==============================] - 0s 780us/step - loss: 0.3226 - accuracy: 0.9619\n",
      "Epoch 32/100\n",
      "24/24 [==============================] - 0s 737us/step - loss: 0.3133 - accuracy: 0.9663\n",
      "Epoch 33/100\n",
      "24/24 [==============================] - 0s 781us/step - loss: 0.3146 - accuracy: 0.9587\n",
      "Epoch 34/100\n",
      "24/24 [==============================] - 0s 571us/step - loss: 0.3123 - accuracy: 0.9642\n",
      "Epoch 35/100\n",
      "24/24 [==============================] - 0s 737us/step - loss: 0.3075 - accuracy: 0.9535\n",
      "Epoch 36/100\n",
      "24/24 [==============================] - 0s 743us/step - loss: 0.2848 - accuracy: 0.9668\n",
      "Epoch 37/100\n",
      "24/24 [==============================] - 0s 781us/step - loss: 0.2908 - accuracy: 0.9663\n",
      "Epoch 38/100\n",
      "24/24 [==============================] - 0s 652us/step - loss: 0.2619 - accuracy: 0.9799\n",
      "Epoch 39/100\n",
      "24/24 [==============================] - 0s 649us/step - loss: 0.2751 - accuracy: 0.9692\n",
      "Epoch 40/100\n",
      "24/24 [==============================] - 0s 635us/step - loss: 0.2731 - accuracy: 0.9693\n",
      "Epoch 41/100\n",
      "24/24 [==============================] - 0s 694us/step - loss: 0.2593 - accuracy: 0.9659\n",
      "Epoch 42/100\n",
      "24/24 [==============================] - 0s 680us/step - loss: 0.2416 - accuracy: 0.9844\n",
      "Epoch 43/100\n",
      "24/24 [==============================] - 0s 607us/step - loss: 0.2442 - accuracy: 0.9775\n",
      "Epoch 44/100\n",
      "24/24 [==============================] - 0s 631us/step - loss: 0.2407 - accuracy: 0.9701\n",
      "Epoch 45/100\n",
      "24/24 [==============================] - 0s 607us/step - loss: 0.2387 - accuracy: 0.9809\n",
      "Epoch 46/100\n",
      "24/24 [==============================] - 0s 607us/step - loss: 0.2388 - accuracy: 0.9738\n",
      "Epoch 47/100\n",
      "24/24 [==============================] - 0s 694us/step - loss: 0.2242 - accuracy: 0.9897\n",
      "Epoch 48/100\n",
      "24/24 [==============================] - 0s 649us/step - loss: 0.2162 - accuracy: 0.9880\n",
      "Epoch 49/100\n",
      "24/24 [==============================] - 0s 721us/step - loss: 0.2088 - accuracy: 0.9772\n",
      "Epoch 50/100\n",
      "24/24 [==============================] - 0s 607us/step - loss: 0.2233 - accuracy: 0.9846\n",
      "Epoch 51/100\n",
      "24/24 [==============================] - 0s 637us/step - loss: 0.2113 - accuracy: 0.9850\n",
      "Epoch 52/100\n",
      "24/24 [==============================] - 0s 650us/step - loss: 0.2141 - accuracy: 0.9835\n",
      "Epoch 53/100\n",
      "24/24 [==============================] - 0s 650us/step - loss: 0.2025 - accuracy: 0.9820\n",
      "Epoch 54/100\n",
      "24/24 [==============================] - 0s 689us/step - loss: 0.1945 - accuracy: 0.9837\n",
      "Epoch 55/100\n",
      "24/24 [==============================] - 0s 647us/step - loss: 0.1844 - accuracy: 0.9861\n",
      "Epoch 56/100\n",
      "24/24 [==============================] - 0s 694us/step - loss: 0.1787 - accuracy: 0.9893\n",
      "Epoch 57/100\n",
      "24/24 [==============================] - 0s 737us/step - loss: 0.1728 - accuracy: 0.9865\n",
      "Epoch 58/100\n",
      "24/24 [==============================] - 0s 737us/step - loss: 0.1691 - accuracy: 0.9914\n",
      "Epoch 59/100\n",
      "24/24 [==============================] - 0s 649us/step - loss: 0.1756 - accuracy: 0.9825\n",
      "Epoch 60/100\n",
      "24/24 [==============================] - 0s 712us/step - loss: 0.1650 - accuracy: 0.9887\n",
      "Epoch 61/100\n",
      "24/24 [==============================] - 0s 694us/step - loss: 0.1627 - accuracy: 0.9877\n",
      "Epoch 62/100\n",
      "24/24 [==============================] - 0s 681us/step - loss: 0.1588 - accuracy: 0.9919\n",
      "Epoch 63/100\n",
      "24/24 [==============================] - 0s 693us/step - loss: 0.1665 - accuracy: 0.9875\n",
      "Epoch 64/100\n",
      "24/24 [==============================] - 0s 694us/step - loss: 0.1589 - accuracy: 0.9872\n",
      "Epoch 65/100\n",
      "24/24 [==============================] - 0s 716us/step - loss: 0.1567 - accuracy: 0.9903\n",
      "Epoch 66/100\n",
      "24/24 [==============================] - 0s 650us/step - loss: 0.1458 - accuracy: 0.9976\n",
      "Epoch 67/100\n",
      "24/24 [==============================] - 0s 737us/step - loss: 0.1487 - accuracy: 0.9912\n",
      "Epoch 68/100\n",
      "24/24 [==============================] - 0s 737us/step - loss: 0.1426 - accuracy: 0.9906\n",
      "Epoch 69/100\n",
      "24/24 [==============================] - 0s 660us/step - loss: 0.1327 - accuracy: 0.9953\n",
      "Epoch 70/100\n",
      "24/24 [==============================] - 0s 694us/step - loss: 0.1328 - accuracy: 0.9938\n",
      "Epoch 71/100\n",
      "24/24 [==============================] - 0s 738us/step - loss: 0.1344 - accuracy: 0.9923\n",
      "Epoch 72/100\n",
      "24/24 [==============================] - 0s 694us/step - loss: 0.1342 - accuracy: 0.9876\n",
      "Epoch 73/100\n",
      "24/24 [==============================] - ETA: 0s - loss: 0.1329 - accuracy: 1.00 - 0s 686us/step - loss: 0.1306 - accuracy: 0.9979\n",
      "Epoch 74/100\n",
      "24/24 [==============================] - 0s 650us/step - loss: 0.1178 - accuracy: 0.9995\n",
      "Epoch 75/100\n",
      "24/24 [==============================] - 0s 694us/step - loss: 0.1237 - accuracy: 0.9987\n",
      "Epoch 76/100\n",
      "24/24 [==============================] - 0s 651us/step - loss: 0.1270 - accuracy: 0.9982\n",
      "Epoch 77/100\n",
      "24/24 [==============================] - 0s 653us/step - loss: 0.1249 - accuracy: 0.9950\n",
      "Epoch 78/100\n",
      "24/24 [==============================] - 0s 684us/step - loss: 0.1157 - accuracy: 0.9976\n",
      "Epoch 79/100\n",
      "24/24 [==============================] - 0s 737us/step - loss: 0.1151 - accuracy: 0.9983\n",
      "Epoch 80/100\n",
      "24/24 [==============================] - 0s 737us/step - loss: 0.1108 - accuracy: 0.9989\n"
     ]
    },
    {
     "name": "stdout",
     "output_type": "stream",
     "text": [
      "Epoch 81/100\n",
      "24/24 [==============================] - 0s 738us/step - loss: 0.1127 - accuracy: 0.9989\n",
      "Epoch 82/100\n",
      "24/24 [==============================] - 0s 652us/step - loss: 0.1073 - accuracy: 1.0000\n",
      "Epoch 83/100\n",
      "24/24 [==============================] - 0s 694us/step - loss: 0.1127 - accuracy: 1.0000\n",
      "Epoch 84/100\n",
      "24/24 [==============================] - 0s 695us/step - loss: 0.1042 - accuracy: 1.0000\n",
      "Epoch 85/100\n",
      "24/24 [==============================] - 0s 676us/step - loss: 0.1022 - accuracy: 1.0000\n",
      "Epoch 86/100\n",
      "24/24 [==============================] - 0s 606us/step - loss: 0.1048 - accuracy: 1.0000\n",
      "Epoch 87/100\n",
      "24/24 [==============================] - 0s 677us/step - loss: 0.0998 - accuracy: 1.0000\n",
      "Epoch 88/100\n",
      "24/24 [==============================] - 0s 650us/step - loss: 0.0995 - accuracy: 1.0000\n",
      "Epoch 89/100\n",
      "24/24 [==============================] - 0s 650us/step - loss: 0.0963 - accuracy: 1.0000\n",
      "Epoch 90/100\n",
      "24/24 [==============================] - 0s 695us/step - loss: 0.0931 - accuracy: 1.0000\n",
      "Epoch 91/100\n",
      "24/24 [==============================] - 0s 695us/step - loss: 0.0939 - accuracy: 1.0000\n",
      "Epoch 92/100\n",
      "24/24 [==============================] - 0s 694us/step - loss: 0.0845 - accuracy: 1.0000\n",
      "Epoch 93/100\n",
      "24/24 [==============================] - 0s 646us/step - loss: 0.0862 - accuracy: 1.0000\n",
      "Epoch 94/100\n",
      "24/24 [==============================] - 0s 739us/step - loss: 0.0890 - accuracy: 1.0000\n",
      "Epoch 95/100\n",
      "24/24 [==============================] - 0s 651us/step - loss: 0.0895 - accuracy: 1.0000\n",
      "Epoch 96/100\n",
      "24/24 [==============================] - 0s 654us/step - loss: 0.0833 - accuracy: 1.0000\n",
      "Epoch 97/100\n",
      "24/24 [==============================] - 0s 694us/step - loss: 0.0785 - accuracy: 1.0000\n",
      "Epoch 98/100\n",
      "24/24 [==============================] - 0s 694us/step - loss: 0.0796 - accuracy: 1.0000\n",
      "Epoch 99/100\n",
      "24/24 [==============================] - 0s 651us/step - loss: 0.0811 - accuracy: 1.0000\n",
      "Epoch 100/100\n",
      "24/24 [==============================] - 0s 695us/step - loss: 0.0792 - accuracy: 1.0000\n"
     ]
    }
   ],
   "source": [
    "# 19.2.3 Train and Test a Basic Neural Network\n",
    "# Fit the model to the training data\n",
    "fit_model = nn_model.fit(X_train_scaled, y_train, epochs=100)"
   ]
  },
  {
   "cell_type": "code",
   "execution_count": 13,
   "metadata": {},
   "outputs": [
    {
     "data": {
      "text/plain": [
       "<AxesSubplot:>"
      ]
     },
     "execution_count": 13,
     "metadata": {},
     "output_type": "execute_result"
    },
    {
     "data": {
      "image/png": "[encoded data removed]",
      "text/plain": [
       "<Figure size 432x288 with 1 Axes>"
      ]
     },
     "metadata": {
      "needs_background": "light"
     },
     "output_type": "display_data"
    }
   ],
   "source": [
    "# Create a DataFrame containing training history\n",
    "history_df = pd.DataFrame(fit_model.history, index=range(1,len(fit_model.history[\"loss\"])+1))\n",
    "\n",
    "# Plot the loss\n",
    "history_df.plot(y=\"loss\")"
   ]
  },
  {
   "cell_type": "code",
   "execution_count": 14,
   "metadata": {},
   "outputs": [
    {
     "data": {
      "text/plain": [
       "<AxesSubplot:>"
      ]
     },
     "execution_count": 14,
     "metadata": {},
     "output_type": "execute_result"
    },
    {
     "data": {
      "image/png": "[encoded data removed]",
      "text/plain": [
       "<Figure size 432x288 with 1 Axes>"
      ]
     },
     "metadata": {
      "needs_background": "light"
     },
     "output_type": "display_data"
    }
   ],
   "source": [
    "# Plot the accuracy\n",
    "history_df.plot(y=\"accuracy\")"
   ]
  },
  {
   "cell_type": "code",
   "execution_count": 15,
   "metadata": {},
   "outputs": [
    {
     "name": "stdout",
     "output_type": "stream",
     "text": [
      "8/8 - 0s - loss: 0.0730 - accuracy: 1.0000\n",
      "Loss: 0.07301867008209229, Accuracy: 1.0\n"
     ]
    }
   ],
   "source": [
    "# Evaluate the model using the test data\n",
    "model_loss, model_accuracy = nn_model.evaluate(X_test_scaled,y_test,verbose=2)\n",
    "print(f\"Loss: {model_loss}, Accuracy: {model_accuracy}\")"
   ]
  },
  {
   "cell_type": "code",
   "execution_count": 16,
   "metadata": {},
   "outputs": [
    {
     "data": {
      "text/plain": [
       "array([[0],\n",
       "       [1],\n",
       "       [0],\n",
       "       [1],\n",
       "       [0],\n",
       "       [0],\n",
       "       [1],\n",
       "       [1],\n",
       "       [1],\n",
       "       [0]])"
      ]
     },
     "execution_count": 16,
     "metadata": {},
     "output_type": "execute_result"
    }
   ],
   "source": [
    "# Predict the classification of a new set of blob data\n",
    "new_X, new_Y = make_blobs(n_samples=10, centers=2, n_features=2, random_state=78)\n",
    "new_X_scaled = X_scaler.transform(new_X)\n",
    "(nn_model.predict(new_X_scaled) > 0.5).astype(\"int32\")"
   ]
  },
  {
   "cell_type": "code",
   "execution_count": 17,
   "metadata": {},
   "outputs": [
    {
     "name": "stderr",
     "output_type": "stream",
     "text": [
      "C:\\Users\\mathg\\anaconda3\\envs\\mlenv\\lib\\site-packages\\tensorflow\\python\\keras\\engine\\sequential.py:450: UserWarning: `model.predict_classes()` is deprecated and will be removed after 2021-01-01. Please use instead:* `np.argmax(model.predict(x), axis=-1)`,   if your model does multi-class classification   (e.g. if it uses a `softmax` last-layer activation).* `(model.predict(x) > 0.5).astype(\"int32\")`,   if your model does binary classification   (e.g. if it uses a `sigmoid` last-layer activation).\n",
      "  warnings.warn('`model.predict_classes()` is deprecated and '\n"
     ]
    },
    {
     "data": {
      "text/plain": [
       "array([[0],\n",
       "       [1],\n",
       "       [0],\n",
       "       [1],\n",
       "       [0],\n",
       "       [0],\n",
       "       [1],\n",
       "       [1],\n",
       "       [1],\n",
       "       [0]])"
      ]
     },
     "execution_count": 17,
     "metadata": {},
     "output_type": "execute_result"
    }
   ],
   "source": [
    "# Predict the classification of a new set of blob data\n",
    "new_X, new_Y = make_blobs(n_samples=10, centers=2, n_features=2, random_state=78)\n",
    "new_X_scaled = X_scaler.transform(new_X)\n",
    "nn_model.predict_classes(new_X_scaled)"
   ]
  },
  {
   "cell_type": "code",
   "execution_count": 18,
   "metadata": {},
   "outputs": [
    {
     "data": {
      "text/plain": [
       "<AxesSubplot:xlabel='Feature 1', ylabel='Feature 2'>"
      ]
     },
     "execution_count": 18,
     "metadata": {},
     "output_type": "execute_result"
    },
    {
     "data": {
      "image/png": "[encoded data removed]",
      "text/plain": [
       "<Figure size 432x288 with 2 Axes>"
      ]
     },
     "metadata": {
      "needs_background": "light"
     },
     "output_type": "display_data"
    }
   ],
   "source": [
    "# 19.2.4 Nuances of Neural Networks on Nonlinear Numbers\n",
    "from sklearn.datasets import make_moons\n",
    "\n",
    "# Creating dummy nonlinear data\n",
    "X_moons, y_moons = make_moons(n_samples=1000, noise=0.08, random_state=78)\n",
    "\n",
    "# Transforming y_moons to a vertical vector\n",
    "y_moons = y_moons.reshape(-1, 1)\n",
    "\n",
    "# Creating a DataFrame to plot the nonlinear dummy data\n",
    "df_moons = pd.DataFrame(X_moons, columns=[\"Feature 1\", \"Feature 2\"])\n",
    "df_moons[\"Target\"] = y_moons\n",
    "\n",
    "# Plot the nonlinear dummy data\n",
    "df_moons.plot.scatter(x=\"Feature 1\",y=\"Feature 2\", c=\"Target\",colormap=\"winter\")"
   ]
  },
  {
   "cell_type": "code",
   "execution_count": 19,
   "metadata": {},
   "outputs": [],
   "source": [
    "# Create training and testing sets\n",
    "X_moon_train, X_moon_test, y_moon_train, y_moon_test = train_test_split(\n",
    "    X_moons, y_moons, random_state=78\n",
    ")\n",
    "\n",
    "# Create the scaler instance\n",
    "X_moon_scaler = skl.preprocessing.StandardScaler()\n",
    "\n",
    "# Fit the scaler\n",
    "X_moon_scaler.fit(X_moon_train)\n",
    "\n",
    "# Scale the data\n",
    "X_moon_train_scaled = X_moon_scaler.transform(X_moon_train)\n",
    "X_moon_test_scaled = X_moon_scaler.transform(X_moon_test)"
   ]
  },
  {
   "cell_type": "code",
   "execution_count": 20,
   "metadata": {},
   "outputs": [
    {
     "name": "stdout",
     "output_type": "stream",
     "text": [
      "Epoch 1/100\n",
      "24/24 [==============================] - 0s 1ms/step - loss: 1.1994 - accuracy: 0.4200\n",
      "Epoch 2/100\n",
      "24/24 [==============================] - 0s 2ms/step - loss: 1.0374 - accuracy: 0.4480\n",
      "Epoch 3/100\n",
      "24/24 [==============================] - 0s 1ms/step - loss: 0.9342 - accuracy: 0.4773\n",
      "Epoch 4/100\n",
      "24/24 [==============================] - 0s 1ms/step - loss: 0.8645 - accuracy: 0.5000\n",
      "Epoch 5/100\n",
      "24/24 [==============================] - 0s 1ms/step - loss: 0.8152 - accuracy: 0.5240\n",
      "Epoch 6/100\n",
      "24/24 [==============================] - 0s 986us/step - loss: 0.7765 - accuracy: 0.5427\n",
      "Epoch 7/100\n",
      "24/24 [==============================] - 0s 997us/step - loss: 0.7438 - accuracy: 0.5613\n",
      "Epoch 8/100\n",
      "24/24 [==============================] - 0s 1ms/step - loss: 0.7153 - accuracy: 0.5747\n",
      "Epoch 9/100\n",
      "24/24 [==============================] - 0s 1ms/step - loss: 0.6901 - accuracy: 0.5880\n",
      "Epoch 10/100\n",
      "24/24 [==============================] - 0s 1ms/step - loss: 0.6676 - accuracy: 0.5933\n",
      "Epoch 11/100\n",
      "24/24 [==============================] - 0s 1ms/step - loss: 0.6472 - accuracy: 0.6027\n",
      "Epoch 12/100\n",
      "24/24 [==============================] - 0s 1ms/step - loss: 0.6283 - accuracy: 0.6107\n",
      "Epoch 13/100\n",
      "24/24 [==============================] - 0s 1ms/step - loss: 0.6104 - accuracy: 0.6213\n",
      "Epoch 14/100\n",
      "24/24 [==============================] - 0s 1ms/step - loss: 0.5939 - accuracy: 0.6293\n",
      "Epoch 15/100\n",
      "24/24 [==============================] - 0s 1ms/step - loss: 0.5788 - accuracy: 0.6373\n",
      "Epoch 16/100\n",
      "24/24 [==============================] - 0s 919us/step - loss: 0.5646 - accuracy: 0.6453\n",
      "Epoch 17/100\n",
      "24/24 [==============================] - 0s 1ms/step - loss: 0.5515 - accuracy: 0.6533\n",
      "Epoch 18/100\n",
      "24/24 [==============================] - 0s 1ms/step - loss: 0.5389 - accuracy: 0.6667\n",
      "Epoch 19/100\n",
      "24/24 [==============================] - 0s 1ms/step - loss: 0.5271 - accuracy: 0.6787\n",
      "Epoch 20/100\n",
      "24/24 [==============================] - 0s 1ms/step - loss: 0.5161 - accuracy: 0.6813\n",
      "Epoch 21/100\n",
      "24/24 [==============================] - 0s 1ms/step - loss: 0.5057 - accuracy: 0.6867\n",
      "Epoch 22/100\n",
      "24/24 [==============================] - 0s 1ms/step - loss: 0.4959 - accuracy: 0.6947\n",
      "Epoch 23/100\n",
      "24/24 [==============================] - 0s 1ms/step - loss: 0.4864 - accuracy: 0.6973\n",
      "Epoch 24/100\n",
      "24/24 [==============================] - 0s 1ms/step - loss: 0.4775 - accuracy: 0.7067\n",
      "Epoch 25/100\n",
      "24/24 [==============================] - 0s 989us/step - loss: 0.4689 - accuracy: 0.7173\n",
      "Epoch 26/100\n",
      "24/24 [==============================] - 0s 3ms/step - loss: 0.4606 - accuracy: 0.7213\n",
      "Epoch 27/100\n",
      "24/24 [==============================] - 0s 2ms/step - loss: 0.4529 - accuracy: 0.7227\n",
      "Epoch 28/100\n",
      "24/24 [==============================] - 0s 1ms/step - loss: 0.4454 - accuracy: 0.7333\n",
      "Epoch 29/100\n",
      "24/24 [==============================] - 0s 1ms/step - loss: 0.4382 - accuracy: 0.7467\n",
      "Epoch 30/100\n",
      "24/24 [==============================] - 0s 1ms/step - loss: 0.4313 - accuracy: 0.7520\n",
      "Epoch 31/100\n",
      "24/24 [==============================] - 0s 2ms/step - loss: 0.4246 - accuracy: 0.7573\n",
      "Epoch 32/100\n",
      "24/24 [==============================] - 0s 1ms/step - loss: 0.4183 - accuracy: 0.7640\n",
      "Epoch 33/100\n",
      "24/24 [==============================] - 0s 2ms/step - loss: 0.4119 - accuracy: 0.7693\n",
      "Epoch 34/100\n",
      "24/24 [==============================] - 0s 2ms/step - loss: 0.4058 - accuracy: 0.7787\n",
      "Epoch 35/100\n",
      "24/24 [==============================] - 0s 1ms/step - loss: 0.4000 - accuracy: 0.7827\n",
      "Epoch 36/100\n",
      "24/24 [==============================] - 0s 1ms/step - loss: 0.3941 - accuracy: 0.7840\n",
      "Epoch 37/100\n",
      "24/24 [==============================] - 0s 1ms/step - loss: 0.3887 - accuracy: 0.7867\n",
      "Epoch 38/100\n",
      "24/24 [==============================] - 0s 1ms/step - loss: 0.3831 - accuracy: 0.7880\n",
      "Epoch 39/100\n",
      "24/24 [==============================] - 0s 2ms/step - loss: 0.3779 - accuracy: 0.7933\n",
      "Epoch 40/100\n",
      "24/24 [==============================] - 0s 1ms/step - loss: 0.3728 - accuracy: 0.7960\n",
      "Epoch 41/100\n",
      "24/24 [==============================] - 0s 2ms/step - loss: 0.3679 - accuracy: 0.7987\n",
      "Epoch 42/100\n",
      "24/24 [==============================] - 0s 1ms/step - loss: 0.3632 - accuracy: 0.8027\n",
      "Epoch 43/100\n",
      "24/24 [==============================] - 0s 1ms/step - loss: 0.3587 - accuracy: 0.8080\n",
      "Epoch 44/100\n",
      "24/24 [==============================] - 0s 2ms/step - loss: 0.3544 - accuracy: 0.8120\n",
      "Epoch 45/100\n",
      "24/24 [==============================] - 0s 2ms/step - loss: 0.3505 - accuracy: 0.8160\n",
      "Epoch 46/100\n",
      "24/24 [==============================] - 0s 2ms/step - loss: 0.3467 - accuracy: 0.8213\n",
      "Epoch 47/100\n",
      "24/24 [==============================] - 0s 2ms/step - loss: 0.3431 - accuracy: 0.8227\n",
      "Epoch 48/100\n",
      "24/24 [==============================] - 0s 2ms/step - loss: 0.3397 - accuracy: 0.8267\n",
      "Epoch 49/100\n",
      "24/24 [==============================] - 0s 1ms/step - loss: 0.3365 - accuracy: 0.8373\n",
      "Epoch 50/100\n",
      "24/24 [==============================] - 0s 1ms/step - loss: 0.3333 - accuracy: 0.8373\n",
      "Epoch 51/100\n",
      "24/24 [==============================] - 0s 1ms/step - loss: 0.3305 - accuracy: 0.8413\n",
      "Epoch 52/100\n",
      "24/24 [==============================] - 0s 2ms/step - loss: 0.3275 - accuracy: 0.8413\n",
      "Epoch 53/100\n",
      "24/24 [==============================] - 0s 1ms/step - loss: 0.3248 - accuracy: 0.8453\n",
      "Epoch 54/100\n",
      "24/24 [==============================] - 0s 1ms/step - loss: 0.3222 - accuracy: 0.8493\n",
      "Epoch 55/100\n",
      "24/24 [==============================] - 0s 949us/step - loss: 0.3196 - accuracy: 0.8520\n",
      "Epoch 56/100\n",
      "24/24 [==============================] - 0s 1ms/step - loss: 0.3171 - accuracy: 0.8560\n",
      "Epoch 57/100\n",
      "24/24 [==============================] - 0s 2ms/step - loss: 0.3148 - accuracy: 0.8573\n",
      "Epoch 58/100\n",
      "24/24 [==============================] - 0s 2ms/step - loss: 0.3125 - accuracy: 0.8587\n",
      "Epoch 59/100\n",
      "24/24 [==============================] - 0s 2ms/step - loss: 0.3104 - accuracy: 0.8613\n",
      "Epoch 60/100\n",
      "24/24 [==============================] - 0s 2ms/step - loss: 0.3083 - accuracy: 0.8640\n",
      "Epoch 61/100\n",
      "24/24 [==============================] - 0s 1ms/step - loss: 0.3063 - accuracy: 0.8667\n",
      "Epoch 62/100\n",
      "24/24 [==============================] - 0s 1ms/step - loss: 0.3044 - accuracy: 0.8667\n",
      "Epoch 63/100\n",
      "24/24 [==============================] - 0s 1ms/step - loss: 0.3026 - accuracy: 0.8680\n",
      "Epoch 64/100\n",
      "24/24 [==============================] - 0s 1ms/step - loss: 0.3008 - accuracy: 0.8680\n",
      "Epoch 65/100\n",
      "24/24 [==============================] - 0s 1ms/step - loss: 0.2992 - accuracy: 0.8680\n",
      "Epoch 66/100\n",
      "24/24 [==============================] - 0s 1ms/step - loss: 0.2975 - accuracy: 0.8693\n",
      "Epoch 67/100\n",
      "24/24 [==============================] - 0s 911us/step - loss: 0.2959 - accuracy: 0.8693\n",
      "Epoch 68/100\n",
      "24/24 [==============================] - 0s 911us/step - loss: 0.2945 - accuracy: 0.8693\n",
      "Epoch 69/100\n",
      "24/24 [==============================] - 0s 911us/step - loss: 0.2930 - accuracy: 0.8707\n",
      "Epoch 70/100\n",
      "24/24 [==============================] - 0s 938us/step - loss: 0.2916 - accuracy: 0.8707\n",
      "Epoch 71/100\n",
      "24/24 [==============================] - 0s 981us/step - loss: 0.2903 - accuracy: 0.8720\n",
      "Epoch 72/100\n",
      "24/24 [==============================] - 0s 943us/step - loss: 0.2891 - accuracy: 0.8733\n",
      "Epoch 73/100\n",
      "24/24 [==============================] - 0s 851us/step - loss: 0.2878 - accuracy: 0.8733\n",
      "Epoch 74/100\n",
      "24/24 [==============================] - 0s 953us/step - loss: 0.2866 - accuracy: 0.8733\n",
      "Epoch 75/100\n",
      "24/24 [==============================] - 0s 909us/step - loss: 0.2855 - accuracy: 0.8733\n",
      "Epoch 76/100\n",
      "24/24 [==============================] - 0s 911us/step - loss: 0.2845 - accuracy: 0.8733\n",
      "Epoch 77/100\n",
      "24/24 [==============================] - 0s 1ms/step - loss: 0.2834 - accuracy: 0.8733\n",
      "Epoch 78/100\n",
      "24/24 [==============================] - 0s 1ms/step - loss: 0.2824 - accuracy: 0.8747\n",
      "Epoch 79/100\n",
      "24/24 [==============================] - 0s 1ms/step - loss: 0.2815 - accuracy: 0.8747\n",
      "Epoch 80/100\n",
      "24/24 [==============================] - 0s 1ms/step - loss: 0.2805 - accuracy: 0.8773\n",
      "Epoch 81/100\n",
      "24/24 [==============================] - 0s 1ms/step - loss: 0.2796 - accuracy: 0.8773\n",
      "Epoch 82/100\n"
     ]
    },
    {
     "name": "stdout",
     "output_type": "stream",
     "text": [
      "24/24 [==============================] - 0s 2ms/step - loss: 0.2788 - accuracy: 0.8800\n",
      "Epoch 83/100\n",
      "24/24 [==============================] - 0s 2ms/step - loss: 0.2779 - accuracy: 0.8813\n",
      "Epoch 84/100\n",
      "24/24 [==============================] - 0s 1ms/step - loss: 0.2771 - accuracy: 0.8813\n",
      "Epoch 85/100\n",
      "24/24 [==============================] - 0s 1ms/step - loss: 0.2763 - accuracy: 0.8827\n",
      "Epoch 86/100\n",
      "24/24 [==============================] - 0s 999us/step - loss: 0.2756 - accuracy: 0.8840\n",
      "Epoch 87/100\n",
      "24/24 [==============================] - 0s 999us/step - loss: 0.2748 - accuracy: 0.8840\n",
      "Epoch 88/100\n",
      "24/24 [==============================] - 0s 912us/step - loss: 0.2741 - accuracy: 0.8853\n",
      "Epoch 89/100\n",
      "24/24 [==============================] - 0s 1000us/step - loss: 0.2734 - accuracy: 0.8867\n",
      "Epoch 90/100\n",
      "24/24 [==============================] - 0s 952us/step - loss: 0.2727 - accuracy: 0.8880\n",
      "Epoch 91/100\n",
      "24/24 [==============================] - 0s 1ms/step - loss: 0.2720 - accuracy: 0.8880\n",
      "Epoch 92/100\n",
      "24/24 [==============================] - 0s 911us/step - loss: 0.2713 - accuracy: 0.8880\n",
      "Epoch 93/100\n",
      "24/24 [==============================] - 0s 913us/step - loss: 0.2707 - accuracy: 0.8893\n",
      "Epoch 94/100\n",
      "24/24 [==============================] - 0s 959us/step - loss: 0.2701 - accuracy: 0.8907\n",
      "Epoch 95/100\n",
      "24/24 [==============================] - 0s 867us/step - loss: 0.2695 - accuracy: 0.8907\n",
      "Epoch 96/100\n",
      "24/24 [==============================] - 0s 954us/step - loss: 0.2690 - accuracy: 0.8907\n",
      "Epoch 97/100\n",
      "24/24 [==============================] - 0s 834us/step - loss: 0.2684 - accuracy: 0.8920\n",
      "Epoch 98/100\n",
      "24/24 [==============================] - 0s 919us/step - loss: 0.2679 - accuracy: 0.8933\n",
      "Epoch 99/100\n",
      "24/24 [==============================] - 0s 866us/step - loss: 0.2674 - accuracy: 0.8933\n",
      "Epoch 100/100\n",
      "24/24 [==============================] - 0s 984us/step - loss: 0.2669 - accuracy: 0.8933\n"
     ]
    }
   ],
   "source": [
    "# Training the model with the nonlinear data\n",
    "model_moon = nn_model.fit(X_moon_train_scaled, y_moon_train, epochs=100, shuffle=True)"
   ]
  },
  {
   "cell_type": "code",
   "execution_count": 21,
   "metadata": {},
   "outputs": [
    {
     "data": {
      "text/plain": [
       "<AxesSubplot:>"
      ]
     },
     "execution_count": 21,
     "metadata": {},
     "output_type": "execute_result"
    },
    {
     "data": {
      "image/png": "[encoded data removed]",
      "text/plain": [
       "<Figure size 432x288 with 1 Axes>"
      ]
     },
     "metadata": {
      "needs_background": "light"
     },
     "output_type": "display_data"
    }
   ],
   "source": [
    "# Create a DataFrame containing training history\n",
    "history_df = pd.DataFrame(model_moon.history, index=range(1,len(model_moon.history[\"loss\"])+1))\n",
    "\n",
    "# Plot the loss\n",
    "history_df.plot(y=\"loss\")"
   ]
  },
  {
   "cell_type": "code",
   "execution_count": 22,
   "metadata": {},
   "outputs": [
    {
     "data": {
      "text/plain": [
       "<AxesSubplot:>"
      ]
     },
     "execution_count": 22,
     "metadata": {},
     "output_type": "execute_result"
    },
    {
     "data": {
      "image/png": "[encoded data removed]",
      "text/plain": [
       "<Figure size 432x288 with 1 Axes>"
      ]
     },
     "metadata": {
      "needs_background": "light"
     },
     "output_type": "display_data"
    }
   ],
   "source": [
    "# Plot the loss\n",
    "history_df.plot(y=\"accuracy\")"
   ]
  },
  {
   "cell_type": "code",
   "execution_count": 23,
   "metadata": {},
   "outputs": [],
   "source": [
    "# 19.2.5 Create the Connective Tissue, the Multiple-Neuron Neural Network\n",
    "# Generate our new Sequential model\n",
    "new_model = tf.keras.models.Sequential()"
   ]
  },
  {
   "cell_type": "code",
   "execution_count": 24,
   "metadata": {},
   "outputs": [],
   "source": [
    "# Add the input and hidden layer\n",
    "number_inputs = 2\n",
    "number_hidden_nodes = 6\n",
    "\n",
    "new_model.add(tf.keras.layers.Dense(units=number_hidden_nodes, activation=\"relu\", input_dim=number_inputs))\n",
    "\n",
    "# Add the output layer that uses a probability activation function\n",
    "new_model.add(tf.keras.layers.Dense(units=1, activation=\"sigmoid\"))"
   ]
  },
  {
   "cell_type": "code",
   "execution_count": 25,
   "metadata": {},
   "outputs": [
    {
     "name": "stdout",
     "output_type": "stream",
     "text": [
      "Epoch 1/100\n",
      "24/24 [==============================] - 0s 555us/step - loss: 0.8548 - accuracy: 0.5396\n",
      "Epoch 2/100\n",
      "24/24 [==============================] - 0s 691us/step - loss: 0.8446 - accuracy: 0.5150\n",
      "Epoch 3/100\n",
      "24/24 [==============================] - 0s 741us/step - loss: 0.7577 - accuracy: 0.5405\n",
      "Epoch 4/100\n",
      "24/24 [==============================] - 0s 823us/step - loss: 0.7761 - accuracy: 0.4869\n",
      "Epoch 5/100\n",
      "24/24 [==============================] - 0s 736us/step - loss: 0.7289 - accuracy: 0.4833\n",
      "Epoch 6/100\n",
      "24/24 [==============================] - 0s 779us/step - loss: 0.6842 - accuracy: 0.4962\n",
      "Epoch 7/100\n",
      "24/24 [==============================] - 0s 737us/step - loss: 0.6210 - accuracy: 0.5646\n",
      "Epoch 8/100\n",
      "24/24 [==============================] - 0s 837us/step - loss: 0.6236 - accuracy: 0.5249\n",
      "Epoch 9/100\n",
      "24/24 [==============================] - 0s 779us/step - loss: 0.6049 - accuracy: 0.5331\n",
      "Epoch 10/100\n",
      "24/24 [==============================] - 0s 911us/step - loss: 0.5808 - accuracy: 0.5494\n",
      "Epoch 11/100\n",
      "24/24 [==============================] - 0s 744us/step - loss: 0.5354 - accuracy: 0.6136\n",
      "Epoch 12/100\n",
      "24/24 [==============================] - 0s 737us/step - loss: 0.5137 - accuracy: 0.6112\n",
      "Epoch 13/100\n",
      "24/24 [==============================] - 0s 857us/step - loss: 0.5141 - accuracy: 0.6295\n",
      "Epoch 14/100\n",
      "24/24 [==============================] - 0s 782us/step - loss: 0.4951 - accuracy: 0.6716\n",
      "Epoch 15/100\n",
      "24/24 [==============================] - 0s 737us/step - loss: 0.4945 - accuracy: 0.7030\n",
      "Epoch 16/100\n",
      "24/24 [==============================] - 0s 778us/step - loss: 0.4420 - accuracy: 0.7987\n",
      "Epoch 17/100\n",
      "24/24 [==============================] - 0s 737us/step - loss: 0.4340 - accuracy: 0.8134\n",
      "Epoch 18/100\n",
      "24/24 [==============================] - 0s 804us/step - loss: 0.4338 - accuracy: 0.8422\n",
      "Epoch 19/100\n",
      "24/24 [==============================] - 0s 737us/step - loss: 0.4188 - accuracy: 0.8619\n",
      "Epoch 20/100\n",
      "24/24 [==============================] - 0s 785us/step - loss: 0.4150 - accuracy: 0.8729\n",
      "Epoch 21/100\n",
      "24/24 [==============================] - 0s 737us/step - loss: 0.3918 - accuracy: 0.8815\n",
      "Epoch 22/100\n",
      "24/24 [==============================] - 0s 781us/step - loss: 0.4096 - accuracy: 0.8768\n",
      "Epoch 23/100\n",
      "24/24 [==============================] - 0s 760us/step - loss: 0.3945 - accuracy: 0.8827\n",
      "Epoch 24/100\n",
      "24/24 [==============================] - 0s 775us/step - loss: 0.3829 - accuracy: 0.8956\n",
      "Epoch 25/100\n",
      "24/24 [==============================] - 0s 737us/step - loss: 0.3803 - accuracy: 0.8897\n",
      "Epoch 26/100\n",
      "24/24 [==============================] - 0s 824us/step - loss: 0.3753 - accuracy: 0.8934\n",
      "Epoch 27/100\n",
      "24/24 [==============================] - 0s 846us/step - loss: 0.3597 - accuracy: 0.8980\n",
      "Epoch 28/100\n",
      "24/24 [==============================] - 0s 761us/step - loss: 0.3758 - accuracy: 0.8795\n",
      "Epoch 29/100\n",
      "24/24 [==============================] - 0s 778us/step - loss: 0.3511 - accuracy: 0.9095\n",
      "Epoch 30/100\n",
      "24/24 [==============================] - 0s 832us/step - loss: 0.3544 - accuracy: 0.8895\n",
      "Epoch 31/100\n",
      "24/24 [==============================] - 0s 780us/step - loss: 0.3393 - accuracy: 0.8981\n",
      "Epoch 32/100\n",
      "24/24 [==============================] - 0s 787us/step - loss: 0.3497 - accuracy: 0.8981\n",
      "Epoch 33/100\n",
      "24/24 [==============================] - 0s 770us/step - loss: 0.3406 - accuracy: 0.8999\n",
      "Epoch 34/100\n",
      "24/24 [==============================] - 0s 652us/step - loss: 0.3250 - accuracy: 0.9005\n",
      "Epoch 35/100\n",
      "24/24 [==============================] - 0s 850us/step - loss: 0.3345 - accuracy: 0.9070\n",
      "Epoch 36/100\n",
      "24/24 [==============================] - 0s 574us/step - loss: 0.3382 - accuracy: 0.9008\n",
      "Epoch 37/100\n",
      "24/24 [==============================] - 0s 747us/step - loss: 0.3394 - accuracy: 0.8910\n",
      "Epoch 38/100\n",
      "24/24 [==============================] - 0s 608us/step - loss: 0.3397 - accuracy: 0.8933\n",
      "Epoch 39/100\n",
      "24/24 [==============================] - 0s 968us/step - loss: 0.3210 - accuracy: 0.9083\n",
      "Epoch 40/100\n",
      "24/24 [==============================] - 0s 650us/step - loss: 0.3331 - accuracy: 0.8858\n",
      "Epoch 41/100\n",
      "24/24 [==============================] - 0s 605us/step - loss: 0.3216 - accuracy: 0.8977\n",
      "Epoch 42/100\n",
      "24/24 [==============================] - 0s 607us/step - loss: 0.3446 - accuracy: 0.8753\n",
      "Epoch 43/100\n",
      "24/24 [==============================] - 0s 608us/step - loss: 0.3140 - accuracy: 0.8989\n",
      "Epoch 44/100\n",
      "24/24 [==============================] - 0s 651us/step - loss: 0.3109 - accuracy: 0.8999\n",
      "Epoch 45/100\n",
      "24/24 [==============================] - 0s 693us/step - loss: 0.3184 - accuracy: 0.9004\n",
      "Epoch 46/100\n",
      "24/24 [==============================] - 0s 742us/step - loss: 0.3117 - accuracy: 0.9038\n",
      "Epoch 47/100\n",
      "24/24 [==============================] - 0s 845us/step - loss: 0.3176 - accuracy: 0.8988\n",
      "Epoch 48/100\n",
      "24/24 [==============================] - 0s 737us/step - loss: 0.3191 - accuracy: 0.8905\n",
      "Epoch 49/100\n",
      "24/24 [==============================] - 0s 911us/step - loss: 0.3113 - accuracy: 0.9019\n",
      "Epoch 50/100\n",
      "24/24 [==============================] - 0s 897us/step - loss: 0.3018 - accuracy: 0.9070\n",
      "Epoch 51/100\n",
      "24/24 [==============================] - 0s 844us/step - loss: 0.2982 - accuracy: 0.9062\n",
      "Epoch 52/100\n",
      "24/24 [==============================] - 0s 694us/step - loss: 0.2959 - accuracy: 0.9111\n",
      "Epoch 53/100\n",
      "24/24 [==============================] - 0s 694us/step - loss: 0.3064 - accuracy: 0.9038\n",
      "Epoch 54/100\n",
      "24/24 [==============================] - 0s 652us/step - loss: 0.3157 - accuracy: 0.8938\n",
      "Epoch 55/100\n",
      "24/24 [==============================] - 0s 607us/step - loss: 0.3036 - accuracy: 0.9017\n",
      "Epoch 56/100\n",
      "24/24 [==============================] - 0s 650us/step - loss: 0.2909 - accuracy: 0.9026\n",
      "Epoch 57/100\n",
      "24/24 [==============================] - 0s 607us/step - loss: 0.3030 - accuracy: 0.8846\n",
      "Epoch 58/100\n",
      "24/24 [==============================] - 0s 609us/step - loss: 0.2941 - accuracy: 0.9035\n",
      "Epoch 59/100\n",
      "24/24 [==============================] - 0s 653us/step - loss: 0.2992 - accuracy: 0.8928\n",
      "Epoch 60/100\n",
      "24/24 [==============================] - 0s 649us/step - loss: 0.2742 - accuracy: 0.9143\n",
      "Epoch 61/100\n",
      "24/24 [==============================] - 0s 608us/step - loss: 0.2824 - accuracy: 0.9095\n",
      "Epoch 62/100\n",
      "24/24 [==============================] - 0s 665us/step - loss: 0.3065 - accuracy: 0.8801\n",
      "Epoch 63/100\n",
      "24/24 [==============================] - 0s 609us/step - loss: 0.2771 - accuracy: 0.9093\n",
      "Epoch 64/100\n",
      "24/24 [==============================] - 0s 732us/step - loss: 0.2697 - accuracy: 0.9033\n",
      "Epoch 65/100\n",
      "24/24 [==============================] - 0s 684us/step - loss: 0.2934 - accuracy: 0.8886\n",
      "Epoch 66/100\n",
      "24/24 [==============================] - 0s 694us/step - loss: 0.2689 - accuracy: 0.9152\n",
      "Epoch 67/100\n",
      "24/24 [==============================] - 0s 688us/step - loss: 0.2661 - accuracy: 0.9076\n",
      "Epoch 68/100\n",
      "24/24 [==============================] - 0s 673us/step - loss: 0.2756 - accuracy: 0.9050\n",
      "Epoch 69/100\n",
      "24/24 [==============================] - 0s 650us/step - loss: 0.2756 - accuracy: 0.9054\n",
      "Epoch 70/100\n",
      "24/24 [==============================] - 0s 651us/step - loss: 0.2802 - accuracy: 0.9003\n",
      "Epoch 71/100\n",
      "24/24 [==============================] - 0s 692us/step - loss: 0.2713 - accuracy: 0.9096\n",
      "Epoch 72/100\n",
      "24/24 [==============================] - 0s 607us/step - loss: 0.2640 - accuracy: 0.9120\n",
      "Epoch 73/100\n",
      "24/24 [==============================] - 0s 694us/step - loss: 0.2791 - accuracy: 0.8998\n",
      "Epoch 74/100\n",
      "24/24 [==============================] - 0s 693us/step - loss: 0.2851 - accuracy: 0.8932\n",
      "Epoch 75/100\n",
      "24/24 [==============================] - 0s 650us/step - loss: 0.2754 - accuracy: 0.9017\n",
      "Epoch 76/100\n",
      "24/24 [==============================] - 0s 652us/step - loss: 0.2764 - accuracy: 0.8936\n",
      "Epoch 77/100\n",
      "24/24 [==============================] - 0s 692us/step - loss: 0.2806 - accuracy: 0.8980\n",
      "Epoch 78/100\n",
      "24/24 [==============================] - 0s 696us/step - loss: 0.2919 - accuracy: 0.8806\n",
      "Epoch 79/100\n",
      "24/24 [==============================] - 0s 651us/step - loss: 0.2725 - accuracy: 0.8993\n",
      "Epoch 80/100\n",
      "24/24 [==============================] - 0s 694us/step - loss: 0.2624 - accuracy: 0.9021\n",
      "Epoch 81/100\n"
     ]
    },
    {
     "name": "stdout",
     "output_type": "stream",
     "text": [
      "24/24 [==============================] - 0s 675us/step - loss: 0.2554 - accuracy: 0.9075\n",
      "Epoch 82/100\n",
      "24/24 [==============================] - 0s 736us/step - loss: 0.2844 - accuracy: 0.8890\n",
      "Epoch 83/100\n",
      "24/24 [==============================] - 0s 737us/step - loss: 0.2565 - accuracy: 0.9064\n",
      "Epoch 84/100\n",
      "24/24 [==============================] - 0s 722us/step - loss: 0.2562 - accuracy: 0.9126\n",
      "Epoch 85/100\n",
      "24/24 [==============================] - 0s 694us/step - loss: 0.2651 - accuracy: 0.8980\n",
      "Epoch 86/100\n",
      "24/24 [==============================] - 0s 783us/step - loss: 0.2783 - accuracy: 0.8982\n",
      "Epoch 87/100\n",
      "24/24 [==============================] - 0s 694us/step - loss: 0.2741 - accuracy: 0.8885\n",
      "Epoch 88/100\n",
      "24/24 [==============================] - 0s 694us/step - loss: 0.2536 - accuracy: 0.9098\n",
      "Epoch 89/100\n",
      "24/24 [==============================] - 0s 752us/step - loss: 0.2508 - accuracy: 0.9118\n",
      "Epoch 90/100\n",
      "24/24 [==============================] - 0s 699us/step - loss: 0.2512 - accuracy: 0.9014\n",
      "Epoch 91/100\n",
      "24/24 [==============================] - 0s 694us/step - loss: 0.2434 - accuracy: 0.9157\n",
      "Epoch 92/100\n",
      "24/24 [==============================] - 0s 737us/step - loss: 0.2381 - accuracy: 0.9158\n",
      "Epoch 93/100\n",
      "24/24 [==============================] - 0s 694us/step - loss: 0.2735 - accuracy: 0.8928\n",
      "Epoch 94/100\n",
      "24/24 [==============================] - 0s 737us/step - loss: 0.2559 - accuracy: 0.9059\n",
      "Epoch 95/100\n",
      "24/24 [==============================] - 0s 677us/step - loss: 0.2392 - accuracy: 0.9142\n",
      "Epoch 96/100\n",
      "24/24 [==============================] - 0s 736us/step - loss: 0.2613 - accuracy: 0.8981\n",
      "Epoch 97/100\n",
      "24/24 [==============================] - 0s 737us/step - loss: 0.2497 - accuracy: 0.8979\n",
      "Epoch 98/100\n",
      "24/24 [==============================] - 0s 649us/step - loss: 0.2580 - accuracy: 0.9031\n",
      "Epoch 99/100\n",
      "24/24 [==============================] - 0s 694us/step - loss: 0.2585 - accuracy: 0.9000\n",
      "Epoch 100/100\n",
      "24/24 [==============================] - 0s 740us/step - loss: 0.2457 - accuracy: 0.9093\n"
     ]
    }
   ],
   "source": [
    "# Compile the Sequential model together and customize metrics\n",
    "new_model.compile(loss=\"binary_crossentropy\", optimizer=\"adam\", metrics=[\"accuracy\"])\n",
    "\n",
    "# Fit the model to the training data\n",
    "new_fit_model = new_model.fit(X_moon_train_scaled, y_moon_train, epochs=100, shuffle=True)"
   ]
  },
  {
   "cell_type": "code",
   "execution_count": null,
   "metadata": {},
   "outputs": [],
   "source": [
    "# 19.2.6 Give Your Model a Synaptic Boost\n",
    "# skipped 2 skill drills"
   ]
  }
 ],
 "metadata": {
  "kernelspec": {
   "display_name": "mlenv",
   "language": "python",
   "name": "mlenv"
  },
  "language_info": {
   "codemirror_mode": {
    "name": "ipython",
    "version": 3
   },
   "file_extension": ".py",
   "mimetype": "text/x-python",
   "name": "python",
   "nbconvert_exporter": "python",
   "pygments_lexer": "ipython3",
   "version": "3.7.9"
  }
 },
 "nbformat": 4,
 "nbformat_minor": 4
}
